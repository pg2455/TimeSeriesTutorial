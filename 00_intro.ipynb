{
 "cells": [
  {
   "cell_type": "markdown",
   "id": "4395e4af-aef7-417d-a499-e6d74ef9e714",
   "metadata": {},
   "source": [
    "# Time Series Tutorial\n",
    "\n",
    "## Introduction\n",
    "\n",
    "Time series data is ubiquitous across various real-world scenarios, such as traffic flow, weather patterns, and economic indicators. Multiple methods have been developed, addressing tasks such as:\n",
    "\n",
    "- **Forecasting:** Predict future events based on historical time series data.\n",
    "- **Anomaly Detection:** Spot unusual patterns that deviate from expected behavior.\n",
    "- **Clustering:** Categorize similar time series.\n",
    "- **Classification:** Assign time series data to predefined classes.\n",
    "- **Segmentation:** Break down a time series into meaningful segments.\n",
    "- **Change Point Detection:** Determine points at which the statistical properties of the series shift significantly.\n",
    "- **Causality Analysis:** Use techniques like Granger causality to discover relationships between different time series.\n",
    "- **Dimensionality Reduction:** Apply methods such as Dynamic Time Warping (DTW) to reduce the complexity of time series data.\n",
    "\n",
    "## Objectives of This Tutorial\n",
    "\n",
    "This tutorial series is designed to guide software and machine learning engineers through the foundational and advanced techniques of time series analysis. By the end of this series, you will:\n",
    "\n",
    "- Be acquainted with common time series datasets and understand how to manipulate them to develop robust forecasting models.\n",
    "- Explore how to utilize the GluonTS library for loading and modeling custom time series datasets.\n",
    "- Gain practical skills in exploring and visualizing time series data to discern underlying patterns and processes, which will inform your forecasting strategies.\n",
    "- Learn to implement classical forecasting models using the `statsmodels` package, focusing on ARIMA and Exponential Smoothing techniques.\n",
    "- Progress from classical forecasting techniques to advanced, deep learning-based methods, using real-world datasets like the Weekly Exchange Rate.\n",
    "\n",
    "## Tutorial Structure\n",
    "\n",
    "The following notebooks will guide you through the various stages of this tutorial:\n",
    "\n",
    "- **Time Series Datasets:**\n",
    "  - `01.0_datasets.ipynb`: Introduction to common time series datasets and visualization techniques.\n",
    "  - `01.1_datasets-univariate-eda.ipynb`: Univariate exploratory data analysis.\n",
    "  - `01.2_datasets-multivariate-eda.ipynb`: Multivariate exploratory data analysis.\n",
    "  - `01.3_ts_datasets.ipynb`: Additional dataset exploration tools and techniques.\n",
    "\n",
    "- **Time Series Forecasting Methods:**\n",
    "  - `02_forecasting-basics.ipynb`: Basic setup and exploratory analysis of datasets.\n",
    "  - `03.1_classical_models_exploration.ipynb`: Exploration of classical time series forecasting models.\n",
    "\n",
    "- **Classical Time Series Forecasting Methods:**\n",
    "  - `03.2_classical_models.ipynb`: Detailed construction and evaluation of classical forecasting methods.\n",
    "\n",
    "- **Advanced Time Series Forecasting Methods:**\n",
    "  - *(To be developed and detailed in further sections)*\n",
    "\n",
    "## Setup Instructions\n",
    "\n",
    "To prepare for this tutorial, install the necessary Python libraries using the following commands:\n",
    "\n",
    "```bash\n",
    "pip install statsmodels fastdtw pathlib\n",
    "pip install \"gluonts\"\n",
    "```"
   ]
  }
 ],
 "metadata": {
  "kernelspec": {
   "display_name": "Python 3",
   "language": "python",
   "name": "python3"
  },
  "language_info": {
   "codemirror_mode": {
    "name": "ipython",
    "version": 3
   },
   "file_extension": ".py",
   "mimetype": "text/x-python",
   "name": "python",
   "nbconvert_exporter": "python",
   "pygments_lexer": "ipython3",
   "version": "3.10.10"
  }
 },
 "nbformat": 4,
 "nbformat_minor": 5
}
